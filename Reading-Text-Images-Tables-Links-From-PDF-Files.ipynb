{
 "cells": [
  {
   "cell_type": "code",
   "execution_count": 20,
   "id": "44bd4660",
   "metadata": {},
   "outputs": [],
   "source": [
    "from pathlib import Path\n",
    "import os"
   ]
  },
  {
   "cell_type": "code",
   "execution_count": 41,
   "id": "63ded291",
   "metadata": {},
   "outputs": [],
   "source": [
    "pdf_list = []\n",
    "pdf_dir = \".\\data\"\n",
    "for filename in os.listdir(pdf_dir):\n",
    "    \n",
    "    if filename.endswith(\".pdf\"):\n",
    "        #print(filename)\n",
    "        #pdf_file = open(os.path.join(pdf_dir, filename), 'rb')\n",
    "        pdf_list.append(filename)"
   ]
  },
  {
   "cell_type": "code",
   "execution_count": 42,
   "id": "65b0ce9b",
   "metadata": {},
   "outputs": [
    {
     "data": {
      "text/plain": [
       "['ast_sci_data_tables_sample.pdf',\n",
       " 'just-text.pdf',\n",
       " 'sample-table-of-contents.pdf',\n",
       " 'sample.pdf',\n",
       " 'text-and-images.pdf',\n",
       " 'text-and-table.pdf']"
      ]
     },
     "execution_count": 42,
     "metadata": {},
     "output_type": "execute_result"
    }
   ],
   "source": [
    "pdf_list"
   ]
  },
  {
   "cell_type": "code",
   "execution_count": 35,
   "id": "87b06a4b",
   "metadata": {},
   "outputs": [],
   "source": [
    "# pip install pypdf\n",
    "from pypdf import PdfReader"
   ]
  },
  {
   "cell_type": "code",
   "execution_count": 46,
   "id": "34014b80",
   "metadata": {},
   "outputs": [
    {
     "name": "stdout",
     "output_type": "stream",
     "text": [
      "ast_sci_data_tables_sample.pdf\n",
      "10\n",
      "\n",
      "just-text.pdf\n",
      "7\n",
      "\n",
      "sample-table-of-contents.pdf\n",
      "5\n",
      "\n",
      "sample.pdf\n",
      "7\n",
      "\n",
      "text-and-images.pdf\n",
      "6\n",
      "\n",
      "text-and-table.pdf\n",
      "6\n",
      "\n"
     ]
    }
   ],
   "source": [
    "for filename in pdf_list:\n",
    "    print(filename)\n",
    "    pdf_file = open(os.path.join(pdf_dir, filename), 'rb')\n",
    "    reader = PdfReader(pdf_file)\n",
    "    print(len(reader.pages[0]))\n",
    "    print()"
   ]
  },
  {
   "cell_type": "markdown",
   "id": "30f798ec",
   "metadata": {},
   "source": [
    "# Working on individual files\n"
   ]
  },
  {
   "cell_type": "code",
   "execution_count": 62,
   "id": "ec35944f",
   "metadata": {},
   "outputs": [
    {
     "name": "stdout",
     "output_type": "stream",
     "text": [
      "2\n",
      "Tutoring to Enhance Science Skills\n",
      "Tutoring Two:  Learning to Make Data Tables..............................................................................................\n",
      "Sample Data for Data Tables��������������������������NATIONAL PARTNERSHIP FOR QUALITY AFTERSCHOOL LEARNING\n",
      "www.sedl.org/afterschool/toolkits\n",
      "Use these data to create data tables following the Guidelines for Making a Data Table and \n",
      "Checklist for a Data Table.\n",
      "Example 1: Pet Survey (GR 2–3)\n",
      "Ms. Hubert’s afterschool students took a survey of the 600 students at Morales Elementary \n",
      "School. Students were asked to select their favorite pet from a list of eight animals. Here \n",
      "are the results. \n",
      "Lizard 25, Dog 250, Cat 115, Bird 50, Guinea pig 30, Hamster 45, Fish 75, \n",
      "Ferret 10 \n",
      "Example 2: Electromagnets—Increasing Coils (GR 3–5)\n",
      "The following data were collected using an electromagnet with a 1.5 volt battery, a switch, \n",
      "a piece of #20 insulated wire, and a nail. Three trials were run. Safety precautions in \n",
      "repeating this experiment include using safety goggles or safety spectacles and avoiding \n",
      "short circuits.  \n",
      "  Number of Coils         Number of Paperclips\n",
      " 5 3, 5, 4\n",
      " 10        7, 8, 6\n",
      " 15  11, 10, 12\n",
      " 20  15, 13, 14\n",
      "    \n",
      "Example 3: pH of Substances (GR 5–10)\n",
      "The following are pH values of common household substances taken by three different \n",
      "teams using pH probes. Safety precautions in repeating this experiment include hooded \n",
      "ventilation, chemical-splash safety goggles, gloves, and apron. Do not use bleach, \n",
      "ammonia, or strong acids with children.\n",
      "Lemon juice 2.4, 2.0, 2.2; Baking soda (1 Tbsp) in Water (1 cup) 8.4, 8.3, 8.7; \n",
      "Orange juice 3.5, 4.0, 3.4; Battery acid 1.0, 0.7, 0.5; Apples 3.0, 3.2, 3.5; \n",
      "Tomatoes 4.5, 4.2, 4.0; Bottled water 6.7, 7.0, 7.2; Milk of magnesia 10.5, 10.3, \n",
      "10.6; Liquid hand soap 9.0, 10.0, 9.5; Vinegar 2.2, 2.9, 3.0; Household bleach \n",
      "12.5, 12.5, 12.7; Milk 6.6, 6.5, 6.4; Household ammonia 11.5, 11.0, 11.5;\n",
      "Lye 13.0, 13.5, 13.4; and Sodium hydroxide 14.0, 14.0, 13.9; Anti-freeze 10.1, \n",
      "10.9, 9.7; Windex 9.9. 10.2, 9.5; Liquid detergent 10.5, 10.0, 10.3; and \n",
      "Cola 3.0, 2.5, 3.2\n",
      "Teaching tip:  The pH scale is from 0 to 14. Have students make two data tables, one \n",
      "with the data as given and one with the pH scale 0 to 14 with the substances’ average \n",
      "pH in rank order on the scale (Battery acid at the lower end and Sodium hydroxide at \n",
      "the upper end) or create a pH graphic organizer .\n",
      "1\n"
     ]
    }
   ],
   "source": [
    "file_dir = \".\\data\"\n",
    "file_name = \"ast_sci_data_tables_sample.pdf\"#\"text-and-images.pdf\"#\"ast_sci_data_tables_sample.pdf\"\n",
    "pdf_file = open(os.path.join(pdf_dir, file_name), 'rb')\n",
    "reader = PdfReader(pdf_file)\n",
    "print(len(reader.pages))\n",
    "\n",
    "# Extracting text from 1st page\n",
    "page = reader.pages[0]\n",
    "print(page.extract_text())"
   ]
  },
  {
   "cell_type": "code",
   "execution_count": 63,
   "id": "141dbd08",
   "metadata": {},
   "outputs": [
    {
     "name": "stdout",
     "output_type": "stream",
     "text": [
      "Tutoring to Enhance Science Skills\n",
      "Tutoring Two:  Learning to Make Data Tables..............................................................................................\n",
      "Sample Data for Data Tables��������������������������NATIONAL PARTNERSHIP FOR QUALITY AFTERSCHOOL LEARNING\n",
      "www.sedl.org/afterschool/toolkits\n",
      "Use these data to create data tables following the Guidelines for Making a Data Table and \n",
      "Checklist for a Data Table.\n",
      "Example 1: Pet Survey (GR 2–3)\n",
      "Ms. Hubert’s afterschool students took a survey of the 600 students at Morales Elementary \n",
      "School. Students were asked to select their favorite pet from a list of eight animals. Here \n",
      "are the results. \n",
      "Lizard 25, Dog 250, Cat 115, Bird 50, Guinea pig 30, Hamster 45, Fish 75, \n",
      "Ferret 10 \n",
      "Example 2: Electromagnets—Increasing Coils (GR 3–5)\n",
      "The following data were collected using an electromagnet with a 1.5 volt battery, a switch, \n",
      "a piece of #20 insulated wire, and a nail. Three trials were run. Safety precautions in \n",
      "repeating this experiment include using safety goggles or safety spectacles and avoiding \n",
      "short circuits.  \n",
      "  Number of Coils         Number of Paperclips\n",
      " 5 3, 5, 4\n",
      " 10        7, 8, 6\n",
      " 15  11, 10, 12\n",
      " 20  15, 13, 14\n",
      "    \n",
      "Example 3: pH of Substances (GR 5–10)\n",
      "The following are pH values of common household substances taken by three different \n",
      "teams using pH probes. Safety precautions in repeating this experiment include hooded \n",
      "ventilation, chemical-splash safety goggles, gloves, and apron. Do not use bleach, \n",
      "ammonia, or strong acids with children.\n",
      "Lemon juice 2.4, 2.0, 2.2; Baking soda (1 Tbsp) in Water (1 cup) 8.4, 8.3, 8.7; \n",
      "Orange juice 3.5, 4.0, 3.4; Battery acid 1.0, 0.7, 0.5; Apples 3.0, 3.2, 3.5; \n",
      "Tomatoes 4.5, 4.2, 4.0; Bottled water 6.7, 7.0, 7.2; Milk of magnesia 10.5, 10.3, \n",
      "10.6; Liquid hand soap 9.0, 10.0, 9.5; Vinegar 2.2, 2.9, 3.0; Household bleach \n",
      "12.5, 12.5, 12.7; Milk 6.6, 6.5, 6.4; Household ammonia 11.5, 11.0, 11.5;\n",
      "Lye 13.0, 13.5, 13.4; and Sodium hydroxide 14.0, 14.0, 13.9; Anti-freeze 10.1, \n",
      "10.9, 9.7; Windex 9.9. 10.2, 9.5; Liquid detergent 10.5, 10.0, 10.3; and \n",
      "Cola 3.0, 2.5, 3.2\n",
      "Teaching tip:  The pH scale is from 0 to 14. Have students make two data tables, one \n",
      "with the data as given and one with the pH scale 0 to 14 with the substances’ average \n",
      "pH in rank order on the scale (Battery acid at the lower end and Sodium hydroxide at \n",
      "the upper end) or create a pH graphic organizer .\n",
      "1\n",
      "\n",
      "\n",
      "#################################################################\n",
      "\n",
      "\n",
      "© 2006 WGBH Educational Foundation. All rights reserved.Example 4: Automobile Land Speed Records (GR 5-10)\n",
      "In the first recorded automobile race in 1898, Count Gaston de Chasseloup-Laubat of \n",
      "Paris, France, drove 1 kilometer in 57 seconds for an average speed of 39.2 miles per hour \n",
      "(mph) or 63.1 kilometers per hour (kph). In 1904, Henry Ford drove his Ford Arrow across \n",
      "frozen Lake St. Clair, MI, at an average speed of 91.4 mph. Now, the North American \n",
      "Eagle is trying to break a land speed record of 800 mph. The Federation International de \n",
      "L’Automobile (FIA), the world’s governing body for motor sport and land speed records, \n",
      "recorded the following land speed records. (Retrieved on February 5, 2006, from \n",
      "http://www.landspeed.com/lsrinfo.asp .)\n",
      "Speed (mph)\n",
      "407.447\n",
      "413.199\n",
      "434.22\n",
      "468.719\n",
      "526.277\n",
      "536.712\n",
      "555.127\n",
      "576.553\n",
      "600.601\n",
      "622.407\n",
      "633.468\n",
      "763.035Driver\n",
      "Craig Breedlove\n",
      "Tom Green \n",
      "Art Arfons\n",
      "Craig Breedlove\n",
      "Craig Breedlove\n",
      "Art Arfons\n",
      "Craig Breedlove\n",
      "Art Arfons\n",
      "Craig Breedlove\n",
      "Gary Gabelich\n",
      "Richard Noble \n",
      "Andy GreenCar\n",
      "Spirit of America \n",
      "Wingfoot Express \n",
      "Green Monster \n",
      "Spirit of America\n",
      "Spirit of America\n",
      "Green Monster \n",
      "Spirit of America, Sonic 1 \n",
      "Green Monster \n",
      "Spirit of America, Sonic 1\n",
      "Blue Flame \n",
      "Thrust 2 \n",
      "Thrust SSCEngine\n",
      "GE J47\n",
      "WE J46  \n",
      "GE J79 \n",
      "GE J79 \n",
      "GE J79 \n",
      "GE J79  \n",
      "GE J79 \n",
      "GE J79 \n",
      "GE J79 \n",
      "Rocket \n",
      "RR RG 146 \n",
      "RR SpeyDate\n",
      "8/5/63\n",
      "10/2/64\n",
      "10/5/64\n",
      "10/13/64\n",
      "10/15/65\n",
      "10/27/65\n",
      "11/2/65 \n",
      "11/7/65 \n",
      "11/15/65 \n",
      "10/23/70  \n",
      "10/4/83  \n",
      "10/15/97\n",
      "Example 5: Distance and Time (GR 8-10)\n",
      "The following data were collected using a car with a water clock set to release a drop in \n",
      "a unit of time and a meter stick. The car rolled down an inclined plane. Three trials were \n",
      "run. Create a data table with an average distance column and an average velocity column, \n",
      "create an average distance-time graph, and draw the best-fit line or curve. Estimate the \n",
      "car’s distance traveled and velocity at six drops of water. Describe the motion of the car. Is \n",
      "it going at a constant speed, accelerating, or decelerating? How do you know?\n",
      "   Time (drops of water)           Distance (cm)\n",
      " 1  10,11,9\n",
      " 2  29, 31, 30\n",
      " 3  59, 58, 61\n",
      " 4  102, 100, 98\n",
      " 5  122, 125, 127    \n",
      "     \n",
      "2\n",
      "\n",
      "\n",
      "#################################################################\n",
      "\n",
      "\n"
     ]
    }
   ],
   "source": [
    "for i in range(len(reader.pages)):\n",
    "    page = reader.pages[i]\n",
    "    print(page.extract_text())\n",
    "    print()\n",
    "    print()\n",
    "    print(\"#################################################################\")\n",
    "    print()\n",
    "    print()\n",
    "    "
   ]
  },
  {
   "cell_type": "code",
   "execution_count": 64,
   "id": "588f3697",
   "metadata": {},
   "outputs": [],
   "source": [
    "# Extracting the images from the pdf file\n",
    "for i in page.images:\n",
    "    with open(i.name, \"wb\") as f:\n",
    "        f.write(i.data)\n",
    "        "
   ]
  },
  {
   "cell_type": "markdown",
   "id": "3d75d264",
   "metadata": {},
   "source": [
    "# Using pdfplumber\n",
    "\n",
    "- handy when want to get tabular data\n"
   ]
  },
  {
   "cell_type": "code",
   "execution_count": 66,
   "id": "da067c07",
   "metadata": {},
   "outputs": [],
   "source": [
    "#!pip install pdfplumber\n",
    "\n",
    "import pdfplumber"
   ]
  },
  {
   "cell_type": "code",
   "execution_count": 73,
   "id": "f500f106",
   "metadata": {},
   "outputs": [
    {
     "name": "stdout",
     "output_type": "stream",
     "text": [
      "[[['First Name', 'Last Name', 'Age'], ['John', 'Doe', '99'], ['Jane', 'Doo', '29'], ['Black', 'Smith', '49'], ['Lone', 'Wolf', '35'], ['Foo', 'Bar', '5'], ['Sekiro', 'Honda', '45'], ['Elon', 'Musk', '54'], ['Catherine', 'Roth', '55'], ['Julio', 'Caesar', '58'], ['Candy', 'Sweet', '6'], ['Bo', 'Kim', '32'], ['Sling', 'Academy', '44'], ['Rantaro', 'Shinsuke', '9'], ['Cold', 'Water', '15'], ['Fried', 'Chicken', '3'], ['Blonde', 'Pink', '23']]]\n",
      "[]\n"
     ]
    }
   ],
   "source": [
    "with pdfplumber.open(os.path.join(pdf_dir, \"text-and-table.pdf\")) as f:\n",
    "    for i in f.pages:\n",
    "        print(i.extract_tables())"
   ]
  },
  {
   "cell_type": "markdown",
   "id": "b7969cc0",
   "metadata": {},
   "source": [
    "# Using pymupdf"
   ]
  },
  {
   "cell_type": "code",
   "execution_count": 75,
   "id": "6b4ad3cd",
   "metadata": {},
   "outputs": [],
   "source": [
    "# pip install pymupdf\n",
    "import fitz"
   ]
  },
  {
   "cell_type": "code",
   "execution_count": 83,
   "id": "3015dc7b",
   "metadata": {},
   "outputs": [],
   "source": [
    "doc = fitz.open(os.path.join(pdf_dir, \"sample.pdf\"))"
   ]
  },
  {
   "cell_type": "code",
   "execution_count": 84,
   "id": "0aad1964",
   "metadata": {},
   "outputs": [
    {
     "name": "stdout",
     "output_type": "stream",
     "text": [
      "5\n"
     ]
    }
   ],
   "source": [
    "print(doc.page_count)"
   ]
  },
  {
   "cell_type": "code",
   "execution_count": 85,
   "id": "5a6a611e",
   "metadata": {},
   "outputs": [
    {
     "name": "stdout",
     "output_type": "stream",
     "text": [
      "{'format': 'PDF 1.3', 'title': 'PDF', 'author': 'Software 995', 'subject': 'Create PDF with Pdf 995', 'keywords': 'pdf, create pdf, software, acrobat, adobe', 'creator': 'Pdf995', 'producer': 'GNU Ghostscript 7.05', 'creationDate': '12/12/2003 17:30:12', 'modDate': '', 'trapped': '', 'encryption': None}\n"
     ]
    }
   ],
   "source": [
    "print(doc.metadata)"
   ]
  },
  {
   "cell_type": "code",
   "execution_count": 86,
   "id": "455f9d96",
   "metadata": {},
   "outputs": [
    {
     "name": "stdout",
     "output_type": "stream",
     "text": [
      " \n",
      " \n",
      " \n",
      "The pdf995 suite of products - Pdf995, PdfEdit995, and Signature995 - is a complete solution for your document publishing needs. It \n",
      "provides ease of use, flexibility in format, and industry-standard security- and all at no cost to you. \n",
      "Pdf995 makes it easy and affordable to create professional-quality documents in the popular PDF file format. Its easy-to-use interface \n",
      "helps you to create PDF files by simply selecting the \"print\" command from any application, creating documents which can be viewed \n",
      "on any computer with a PDF viewer. Pdf995 supports network file saving, fast user switching on XP, Citrix/Terminal Server, custom \n",
      "page sizes and large format printing. Pdf995 is a printer driver that works with any Postscript to PDF converter. The pdf995 printer \n",
      "driver and a free Converter are available for easy download. \n",
      "PdfEdit995 offers a wealth of additional functionality, such as: combining documents into a single PDF; automatic link insertion; \n",
      "hierarchical bookmark insertion; PDF conversion to HTML or DOC (text only); integration with Word toolbar with automatic table of \n",
      "contents and link generation; autoattach to email; stationery and stamping.  \n",
      "Signature995 offers state-of-the-art security and encryption to protect your documents and add digital signatures. \n",
      " \n",
      " \n",
      " \n",
      "The Pdf995 Suite offers the following features, all at no cost: \n",
      "Automatic insertion of embedded links \n",
      "Hierarchical Bookmarks \n",
      "Support for Digital Signatures \n",
      "Support for Triple DES encryption \n",
      "Append and Delete PDF Pages \n",
      "Batch Print from Microsoft Office \n",
      "Asian and Cyrillic fonts \n",
      "Integration with Microsoft Word toolbar \n",
      "PDF Stationery \n",
      "Combining multiple PDF's into a single PDF \n",
      "Three auto-name options to bypass Save As dialog \n",
      "Imposition of Draft/Confidential stamps \n",
      "Support for large format architectural printing \n",
      "Convert PDF to JPEG, TIFF, BMP, PCX formats \n",
      "Convert PDF to HTML and Word DOC conversion \n",
      "Convert PDF to text \n",
      "Automatic Table of Contents generation \n",
      "Support for XP Fast User Switching and multiple user \n",
      "sessions \n",
      "Standard PDF Encryption (restricted printing, modifying, \n",
      "copying text and images) \n",
      "Support for Optimized PDF \n",
      "Support for custom page sizes \n",
      "Option to attach PDFs to email after creation  \n",
      "Automatic text summarization of PDF \n",
      "documents \n",
      "Easy integration with document management \n",
      "and Workflow systems \n",
      "n-Up printing \n",
      "Automatic page numbering \n",
      "Simple Programmers Interface \n",
      "Option to automatically display PDFs after \n",
      "creation \n",
      "Custom resizing of PDF output \n",
      "Configurable Font embedding \n",
      "Support for Citrix/Terminal Server \n",
      "Support for Windows 2003 Server \n",
      "Easy PS to PDF processing \n",
      "Specify PDF document properties \n",
      "Control PDF opening mode \n",
      "Can be configured to add functionality to \n",
      "Acrobat Distiller \n",
      "Free: Creates PDFs without annoying \n",
      "watermarks \n",
      "Free: Fully functional, not a trial and does not \n",
      "expire \n",
      "Over 5 million satisfied customers \n",
      "Over 1000 Enterprise Customers worldwide \n",
      " \n",
      "Please visit us at www.pdf995.com to learn more. \n",
      " \n",
      "This document illustrates several features of the Pdf995 Suite of Products. \n",
      "\n"
     ]
    }
   ],
   "source": [
    "page = doc.load_page(0)\n",
    "print(page.get_text())"
   ]
  },
  {
   "cell_type": "code",
   "execution_count": null,
   "id": "dd5eda6b",
   "metadata": {},
   "outputs": [],
   "source": [
    "# Extracting images from teh pdf file"
   ]
  },
  {
   "cell_type": "code",
   "execution_count": 87,
   "id": "3903b7ad",
   "metadata": {},
   "outputs": [
    {
     "name": "stdout",
     "output_type": "stream",
     "text": [
      "2\n"
     ]
    }
   ],
   "source": [
    "doc = fitz.open(os.path.join(pdf_dir, \"text-and-images.pdf\"))\n",
    "print(doc.page_count)"
   ]
  },
  {
   "cell_type": "code",
   "execution_count": 88,
   "id": "e19606d3",
   "metadata": {},
   "outputs": [
    {
     "name": "stdout",
     "output_type": "stream",
     "text": [
      "{'format': 'PDF 1.4', 'title': 'Sample PDF File with Text and Images', 'author': '', 'subject': '', 'keywords': '', 'creator': '', 'producer': 'Skia/PDF m117 Google Docs Renderer', 'creationDate': '', 'modDate': '', 'trapped': '', 'encryption': None}\n"
     ]
    }
   ],
   "source": [
    "print(doc.metadata)"
   ]
  },
  {
   "cell_type": "code",
   "execution_count": 89,
   "id": "c7d116ee",
   "metadata": {},
   "outputs": [
    {
     "name": "stdout",
     "output_type": "stream",
     "text": [
      "Sample PDF File for Practice & Testing\n",
      "This file contains some images as well as some dummy text.\n",
      "Lorem ipsum dolor sit amet, consectetur adipiscing elit. Fusce id ligula ac quam aliquet\n",
      "venenatis. Ut at ligula tincidunt, sollicitudin purus nec, blandit metus.\n",
      "Sed auctor venenatis purus, et venenatis ipsum. Nulla facilisi. Pellentesque habitant\n",
      "morbi tristique senectus et netus et malesuada fames ac turpis egestas. Proin\n",
      "bibendum purus nisl, at volutpat risus sagittis at. Sed gravida feugiat libero, et placerat\n",
      "libero aliquet eget. Nam non risus sit amet felis accumsan tristique. Nulla facilisi.\n",
      "Curabitur sit amet odio odio. Nunc nec bibendum eros, nec convallis ligula.\n",
      "Sed auctor venenatis purus, et venenatis ipsum. Nulla facilisi. Pellentesque habitant\n",
      "morbi tristique senectus et netus et malesuada fames ac turpis egestas. Proin\n",
      "bibendum purus nisl, at volutpat risus sagittis at. Sed gravida feugiat libero, et placerat\n",
      "libero aliquet eget. Nam non risus sit amet felis accumsan tristique. Nulla facilisi.\n",
      "\n"
     ]
    }
   ],
   "source": [
    "page = doc.load_page(0)\n",
    "print(page.get_text())"
   ]
  },
  {
   "cell_type": "code",
   "execution_count": 91,
   "id": "3b85c97d",
   "metadata": {},
   "outputs": [],
   "source": [
    "# Getting the image of our 1st page\n",
    "pix = page.get_pixmap()\n",
    "pix.save(f\"page_{page.number}.png\")"
   ]
  },
  {
   "cell_type": "code",
   "execution_count": 93,
   "id": "e0fdfca2",
   "metadata": {},
   "outputs": [
    {
     "name": "stdout",
     "output_type": "stream",
     "text": [
      "[{'kind': 2, 'xref': 10, 'from': Rect(275.015625, 548.79931640625, 530.232421875, 562.59814453125), 'uri': 'https://www.slingacademy.com/cat/sample-data/', 'id': ''}]\n"
     ]
    }
   ],
   "source": [
    "# Getting the links\n",
    "page = doc.load_page(1)\n",
    "links = page.get_links()\n",
    "print(links)"
   ]
  },
  {
   "cell_type": "code",
   "execution_count": 94,
   "id": "63b0b21e",
   "metadata": {},
   "outputs": [],
   "source": [
    "#https://www.youtube.com/watch?v=G0PApj7YPBo\n",
    "    \n",
    "# https://pythonology.eu/what-is-the-best-python-pdf-library/"
   ]
  },
  {
   "cell_type": "code",
   "execution_count": 100,
   "id": "b50d8f3a",
   "metadata": {},
   "outputs": [
    {
     "data": {
      "text/plain": [
       "b'q Q q 12 12.12 587.88 767.88 re W n /Cs1 cs 0 0 0 sc q 0.24 0 0 0.24 264.7139 673.92\\ncm BT 45 0 0 45 0 0 Tm /TT1 1 Tf (T) Tj ET Q q 0.24 0 0 0.24 271.4385 673.92\\ncm BT 0.014 Tc 45 0 0 45 0 0 Tm /TT1 1 Tf [ (AB) 1 (L) 3 (E) 2 ( ) 9 (OF)\\n3 ( ) 9 (C) 1 (ON) 1 (T) 2 (E) 2 (N) 1 (T) ] TJ ET Q q 0.24 0 0 0.24 375.9492 673.92\\ncm BT 45 0 0 45 0 0 Tm /TT1 1 Tf (S) Tj ET Q q 0.24 0 0 0.24 383.2861 673.92\\ncm BT 45 0 0 45 0 0 Tm /TT1 1 Tf ( ) Tj ET Q q 0.24 0 0 0.24 108 661.2 cm\\nBT 45 0 0 45 0 0 Tm /TT2 1 Tf ( ) Tj ET Q q 0.24 0 0 0.24 108 648.72 cm BT\\n0.0123 Tc 45 0 0 45 0 0 Tm /TT2 1 Tf [ (Ab) 2 (s) 3 (t) 7 (r) 6 (a) 2 (c)\\n3 (t) ] TJ ET Q q 0.24 0 0 0.24 148.3477 648.72 cm BT 45 0 0 45 0 0 Tm /TT2\\n1 Tf ( ) Tj ET Q q 0.24 0 0 0.24 149.5269 648.72 cm BT 0.005 Tc 45 0 0 45 0 0\\nTm /TT2 1 Tf (................................) Tj ET Q q 0.24 0 0 0.24 247.3237 648.72\\ncm BT 0.005 Tc 45 0 0 45 0 0 Tm /TT2 1 Tf (................................)\\nTj ET Q q 0.24 0 0 0.24 345.1206 648.72 cm BT 0.005 Tc 45 0 0 45 0 0 Tm /TT2\\n1 Tf (................................) Tj ET Q q 0.24 0 0 0.24 442.9175 648.72\\ncm BT 0.005 Tc 45 0 0 45 0 0 Tm /TT2 1 Tf (........................) Tj ET\\nQ q 0.24 0 0 0.24 516.2651 648.72 cm BT 45 0 0 45 0 0 Tm /TT2 1 Tf ( ) Tj\\nET Q q 0.24 0 0 0.24 517.1122 648.72 cm BT 0.0043 Tc 45 0 0 45 0 0 Tm /TT2\\n1 Tf (ii) Tj ET Q q 0.24 0 0 0.24 522 648.72 cm BT 45 0 0 45 0 0 Tm /TT2 1\\nTf ( ) Tj ET Q q 0.24 0 0 0.24 108 636 cm BT 0.0135 Tc 45 0 0 45 0 0 Tm /TT2\\n1 Tf [ (De) 3 (d) 3 (i) 9 (c) 4 (a) 3 (t) 9 (i) 9 (o) 3 (n) ] TJ ET Q q 0.24 0 0 0.24 159.9761 636\\ncm BT 45 0 0 45 0 0 Tm /TT2 1 Tf ( ) Tj ET Q q 0.24 0 0 0.24 161.7514 636\\ncm BT 0.005 Tc 45 0 0 45 0 0 Tm /TT2 1 Tf (................................)\\nTj ET Q q 0.24 0 0 0.24 259.5483 636 cm BT 0.005 Tc 45 0 0 45 0 0 Tm /TT2\\n1 Tf (................................) Tj ET Q q 0.24 0 0 0.24 357.3452 636\\ncm BT 0.005 Tc 45 0 0 45 0 0 Tm /TT2 1 Tf (................................)\\nTj ET Q q 0.24 0 0 0.24 455.1421 636 cm BT 0.005 Tc 45 0 0 45 0 0 Tm /TT2\\n1 Tf (...................) Tj ET Q q 0.24 0 0 0.24 513.209 636 cm BT 45 0 0 45 0 0\\nTm /TT2 1 Tf ( ) Tj ET Q q 0.24 0 0 0.24 514.6685 636 cm BT 0.0043 Tc 45 0 0 45 0 0\\nTm /TT2 1 Tf (iii) Tj ET Q q 0.24 0 0 0.24 522 636 cm BT 45 0 0 45 0 0 Tm\\n/TT2 1 Tf ( ) Tj ET Q q 0.24 0 0 0.24 108 623.28 cm BT 0.0123 Tc 45 0 0 45 0 0\\nTm /TT2 1 Tf [ (Ac) 3 (k) 3 (n) 2 (o) 2 (w) -1 (l) 8 (e) 2 (d) 2 (g) 2 (m)\\n-4 (e) 2 (n) 2 (t) 7 (s) ] TJ ET Q q 0.24 0 0 0.24 197.2729 623.28 cm BT 45 0 0 45 0 0\\nTm /TT2 1 Tf ( ) Tj ET Q q 0.24 0 0 0.24 198.4253 623.28 cm BT 0.005 Tc 45 0 0 45 0 0\\nTm /TT2 1 Tf (................................) Tj ET Q q 0.24 0 0 0.24 296.2222 623.28\\ncm BT 0.005 Tc 45 0 0 45 0 0 Tm /TT2 1 Tf (................................)\\nTj ET Q q 0.24 0 0 0.24 394.019 623.28 cm BT 0.005 Tc 45 0 0 45 0 0 Tm /TT2\\n1 Tf (................................) Tj ET Q q 0.24 0 0 0.24 491.8159 623.28\\ncm BT 0.005 Tc 45 0 0 45 0 0 Tm /TT2 1 Tf (.......) Tj ET Q q 0.24 0 0 0.24 513.209 623.28\\ncm BT 45 0 0 45 0 0 Tm /TT2 1 Tf ( ) Tj ET Q q 0.24 0 0 0.24 514.0507 623.28\\ncm BT 0.0043 Tc 45 0 0 45 0 0 Tm /TT2 1 Tf (iv) Tj ET Q q 0.24 0 0 0.24 522 623.28\\ncm BT 45 0 0 45 0 0 Tm /TT2 1 Tf ( ) Tj ET Q q 0.24 0 0 0.24 108 610.56 cm\\nBT 0.0112 Tc 45 0 0 45 0 0 Tm /TT2 1 Tf [ (Ta) 1 (b) 1 (l) 7 (e) 1 ( ) 6 (o)\\n1 (f) 6 ( ) 6 (C) -2 (o) 1 (n) 1 (t) 6 (e) 1 (n) 1 (t) 6 (s) ] TJ ET Q q 0.24 0 0 0.24 194.8291 610.56\\ncm BT 45 0 0 45 0 0 Tm /TT2 1 Tf ( ) Tj ET Q q 0.24 0 0 0.24 195.3691 610.56\\ncm BT 0.005 Tc 45 0 0 45 0 0 Tm /TT2 1 Tf (................................)\\nTj ET Q q 0.24 0 0 0.24 293.166 610.56 cm BT 0.005 Tc 45 0 0 45 0 0 Tm /TT2\\n1 Tf (................................) Tj ET Q q 0.24 0 0 0.24 390.9629 610.56\\ncm BT 0.005 Tc 45 0 0 45 0 0 Tm /TT2 1 Tf (................................)\\nTj ET Q q 0.24 0 0 0.24 488.7598 610.56 cm BT 0.005 Tc 45 0 0 45 0 0 Tm /TT2\\n1 Tf (.........) Tj ET Q q 0.24 0 0 0.24 516.2651 610.56 cm BT 45 0 0 45 0 0\\nTm /TT2 1 Tf ( ) Tj ET Q q 0.24 0 0 0.24 516.4946 610.56 cm BT 45 0 0 45 0 0\\nTm /TT2 1 Tf (v) Tj ET Q q 0.24 0 0 0.24 522 610.56 cm BT 45 0 0 45 0 0 Tm\\n/TT2 1 Tf ( ) Tj ET Q q 0.24 0 0 0.24 108 598.08 cm BT 0.0105 Tc 45 0 0 45 0 0\\nTm /TT2 1 Tf [ (Li) 6 (s) 1 (t) 6 ( ) 6 (of) 6 ( ) 6 (T) -1 (abl) 6 (es) ]\\nTJ ET Q q 0.24 0 0 0.24 173.4199 598.08 cm BT 45 0 0 45 0 0 Tm /TT2 1 Tf ( )\\nTj ET Q q 0.24 0 0 0.24 173.9761 598.08 cm BT 0.005 Tc 45 0 0 45 0 0 Tm /TT2\\n1 Tf (................................) Tj ET Q q 0.24 0 0 0.24 271.7729 598.08\\ncm BT 0.005 Tc 45 0 0 45 0 0 Tm /TT2 1 Tf (................................)\\nTj ET Q q 0.24 0 0 0.24 369.5698 598.08 cm BT 0.005 Tc 45 0 0 45 0 0 Tm /TT2\\n1 Tf (................................) Tj ET Q q 0.24 0 0 0.24 467.3667 598.08\\ncm BT 0.005 Tc 45 0 0 45 0 0 Tm /TT2 1 Tf (...............) Tj ET Q q 0.24 0 0 0.24 513.209 598.08\\ncm BT 45 0 0 45 0 0 Tm /TT2 1 Tf ( ) Tj ET Q q 0.24 0 0 0.24 514.0507 598.08\\ncm BT 0.0098 Tc 45 0 0 45 0 0 Tm /TT2 1 Tf (vi) Tj ET Q q 0.24 0 0 0.24 522 598.08\\ncm BT 45 0 0 45 0 0 Tm /TT2 1 Tf ( ) Tj ET Q q 0.24 0 0 0.24 108 585.36 cm\\nBT 0.0105 Tc 45 0 0 45 0 0 Tm /TT2 1 Tf [ (Li) 6 (s) 1 (t) 6 ( ) 6 (of) 6\\n( ) 6 (F) -1 (i) 6 (gur) 4 (es) ] TJ ET Q q 0.24 0 0 0.24 177.083 585.36 cm\\nBT 45 0 0 45 0 0 Tm /TT2 1 Tf ( ) Tj ET Q q 0.24 0 0 0.24 180.0884 585.36\\ncm BT 0.005 Tc 45 0 0 45 0 0 Tm /TT2 1 Tf (................................)\\nTj ET Q q 0.24 0 0 0.24 277.8853 585.36 cm BT 0.005 Tc 45 0 0 45 0 0 Tm /TT2\\n1 Tf (................................) Tj ET Q q 0.24 0 0 0.24 375.6821 585.36\\ncm BT 0.005 Tc 45 0 0 45 0 0 Tm /TT2 1 Tf (................................)\\nTj ET Q q 0.24 0 0 0.24 473.479 585.36 cm BT 0.005 Tc 45 0 0 45 0 0 Tm /TT2\\n1 Tf (............) Tj ET Q q 0.24 0 0 0.24 510.1528 585.36 cm BT 45 0 0 45 0 0\\nTm /TT2 1 Tf ( ) Tj ET Q q 0.24 0 0 0.24 511.6069 585.36 cm BT 0.0098 Tc 45 0 0 45 0 0\\nTm /TT2 1 Tf [ (vi) 6 (i) ] TJ ET Q q 0.24 0 0 0.24 522 585.36 cm BT 45 0 0 45 0 0\\nTm /TT2 1 Tf ( ) Tj ET Q q 0.24 0 0 0.24 108 572.64 cm BT 0.0105 Tc 45 0 0 45 0 0\\nTm /TT2 1 Tf [ (Li) 6 (s) 1 (t) 6 ( ) 6 (of) 6 ( ) 6 (I) 6 (l) 6 (l) 6 (us)\\n1 (t) 6 (r) 4 (at) 6 (i) 6 (ons) ] TJ ET Q q 0.24 0 0 0.24 196.0376 572.64\\ncm BT 45 0 0 45 0 0 Tm /TT2 1 Tf ( ) Tj ET Q q 0.24 0 0 0.24 198.4253 572.64\\ncm BT 0.005 Tc 45 0 0 45 0 0 Tm /TT2 1 Tf (................................)\\nTj ET Q q 0.24 0 0 0.24 296.2222 572.64 cm BT 0.005 Tc 45 0 0 45 0 0 Tm /TT2\\n1 Tf (................................) Tj ET Q q 0.24 0 0 0.24 394.019 572.64\\ncm BT 0.005 Tc 45 0 0 45 0 0 Tm /TT2 1 Tf (................................)\\nTj ET Q q 0.24 0 0 0.24 491.8159 572.64 cm BT 0.005 Tc 45 0 0 45 0 0 Tm /TT2\\n1 Tf (.......) Tj ET Q q 0.24 0 0 0.24 513.209 572.64 cm BT 45 0 0 45 0 0\\nTm /TT2 1 Tf ( ) Tj ET Q q 0.24 0 0 0.24 514.0507 572.64 cm BT 0.0043 Tc 45 0 0 45 0 0\\nTm /TT2 1 Tf (ix) Tj ET Q q 0.24 0 0 0.24 522 572.64 cm BT 45 0 0 45 0 0 Tm\\n/TT2 1 Tf ( ) Tj ET Q q 0.24 0 0 0.24 108 560.16 cm BT 45 0 0 45 0 0 Tm /TT2\\n1 Tf ( ) Tj ET Q q 0.24 0 0 0.24 108 547.44 cm BT 0.0135 Tc 45 0 0 45 0 0\\nTm /TT2 1 Tf [ (Ch) 3 (a) 3 (p) 3 (t) 9 (e) 3 (r) 7 ( ) 9 (O) -1 (n) 3 (e)\\n3 (:) 9 ( ) 9 (I) 9 (n) 3 (t) 9 (r) 7 (o) 3 (d) 3 (u) 3 (c) 4 (t) 9 (i) 9\\n(o) 3 (n) ] TJ ET Q q 0.24 0 0 0.24 234.5752 547.44 cm BT 45 0 0 45 0 0 Tm\\n/TT2 1 Tf ( ) Tj ET Q q 0.24 0 0 0.24 235.0991 547.44 cm BT 0.005 Tc 45 0 0 45 0 0\\nTm /TT2 1 Tf (................................) Tj ET Q q 0.24 0 0 0.24 332.896 547.44\\ncm BT 0.005 Tc 45 0 0 45 0 0 Tm /TT2 1 Tf (................................)\\nTj ET Q q 0.24 0 0 0.24 430.6928 547.44 cm BT 0.005 Tc 45 0 0 45 0 0 Tm /TT2\\n1 Tf (...........................) Tj ET Q q 0.24 0 0 0.24 513.209 547.44\\ncm BT 45 0 0 45 0 0 Tm /TT2 1 Tf ( ) Tj ET Q q 0.24 0 0 0.24 515.8823 547.44\\ncm BT 45 0 0 45 0 0 Tm /TT2 1 Tf (1) Tj ET Q q 0.24 0 0 0.24 522 547.44 cm\\nBT 45 0 0 45 0 0 Tm /TT2 1 Tf ( ) Tj ET Q q 0.24 0 0 0.24 126 534.72 cm BT\\n0.005 Tc 45 0 0 45 0 0 Tm /TT2 1 Tf [ ([S) -7 (e) -6 (c) -4 (ti) 1 (o) -6\\n(n) -6 ( A) -7 (]) ] TJ ET Q q 0.24 0 0 0.24 179.1953 534.72 cm BT 45 0 0 45 0 0\\nTm /TT2 1 Tf ( ) Tj ET Q q 0.24 0 0 0.24 180.0884 534.72 cm BT 0.005 Tc 45 0 0 45 0 0\\nTm /TT2 1 Tf (................................) Tj ET Q q 0.24 0 0 0.24 277.8853 534.72\\ncm BT 0.005 Tc 45 0 0 45 0 0 Tm /TT2 1 Tf (................................)\\nTj ET Q q 0.24 0 0 0.24 375.6821 534.72 cm BT 0.005 Tc 45 0 0 45 0 0 Tm /TT2\\n1 Tf (................................) Tj ET Q q 0.24 0 0 0.24 473.479 534.72\\ncm BT 0.005 Tc 45 0 0 45 0 0 Tm /TT2 1 Tf (.............) Tj ET Q q 0.24 0 0 0.24 513.209 534.72\\ncm BT 45 0 0 45 0 0 Tm /TT2 1 Tf ( ) Tj ET Q q 0.24 0 0 0.24 515.8823 534.72\\ncm BT 45 0 0 45 0 0 Tm /TT2 1 Tf (1) Tj ET Q q 0.24 0 0 0.24 522 534.72 cm\\nBT 45 0 0 45 0 0 Tm /TT2 1 Tf ( ) Tj ET Q q 0.24 0 0 0.24 126 522.24 cm BT\\n0.005 Tc 45 0 0 45 0 0 Tm /TT2 1 Tf [ ([S) -7 (e) -6 (c) -4 (ti) 1 (o) -6\\n(n) -6 ( B) -7 (]) ] TJ ET Q q 0.24 0 0 0.24 179.1953 522.24 cm BT 45 0 0 45 0 0\\nTm /TT2 1 Tf ( ) Tj ET Q q 0.24 0 0 0.24 180.0884 522.24 cm BT 0.005 Tc 45 0 0 45 0 0\\nTm /TT2 1 Tf (................................) Tj ET Q q 0.24 0 0 0.24 277.8853 522.24\\ncm BT 0.005 Tc 45 0 0 45 0 0 Tm /TT2 1 Tf (................................)\\nTj ET Q q 0.24 0 0 0.24 375.6821 522.24 cm BT 0.005 Tc 45 0 0 45 0 0 Tm /TT2\\n1 Tf (................................) Tj ET Q q 0.24 0 0 0.24 473.479 522.24\\ncm BT 0.005 Tc 45 0 0 45 0 0 Tm /TT2 1 Tf (...........) Tj ET Q q 0.24 0 0 0.24 507.0967 522.24\\ncm BT 45 0 0 45 0 0 Tm /TT2 1 Tf ( ) Tj ET Q q 0.24 0 0 0.24 509.7646 522.24\\ncm BT 0.0105 Tc 45 0 0 45 0 0 Tm /TT2 1 Tf (15) Tj ET Q q 0.24 0 0 0.24 522 522.24\\ncm BT 45 0 0 45 0 0 Tm /TT2 1 Tf ( ) Tj ET Q q 0.24 0 0 0.24 108 509.52 cm\\nBT 45 0 0 45 0 0 Tm /TT2 1 Tf ( ) Tj ET Q q 0.24 0 0 0.24 108 496.8 cm BT\\n0.0135 Tc 45 0 0 45 0 0 Tm /TT2 1 Tf [ (Ch) 3 (a) 3 (p) 3 (t) 9 (e) 3 (r)\\n7 ( ) ] TJ ET Q q 0.24 0 0 0.24 150.1899 496.8 cm BT 45 0 0 45 0 0 Tm /TT2\\n1 Tf (T) Tj ET Q q 0.24 0 0 0.24 156.9092 496.8 cm BT 0.0135 Tc 45 0 0 45 0 0\\nTm /TT2 1 Tf [ (wo) 3 (:) 9 ( ) 9 ([) 9 (x) 4 (x) 4 (x) 4 (]) ] TJ ET Q q\\n0.24 0 0 0.24 199.7114 496.8 cm BT 45 0 0 45 0 0 Tm /TT2 1 Tf ( ) Tj ET Q\\nq 0.24 0 0 0.24 201.4814 496.8 cm BT 0.005 Tc 45 0 0 45 0 0 Tm /TT2 1 Tf (................................)\\nTj ET Q q 0.24 0 0 0.24 299.2783 496.8 cm BT 0.005 Tc 45 0 0 45 0 0 Tm /TT2\\n1 Tf (................................) Tj ET Q q 0.24 0 0 0.24 397.0752 496.8\\ncm BT 0.005 Tc 45 0 0 45 0 0 Tm /TT2 1 Tf (................................)\\nTj ET Q q 0.24 0 0 0.24 494.872 496.8 cm BT 0.005 Tc 45 0 0 45 0 0 Tm /TT2\\n1 Tf (....) Tj ET Q q 0.24 0 0 0.24 507.0967 496.8 cm BT 45 0 0 45 0 0 Tm\\n/TT2 1 Tf ( ) Tj ET Q q 0.24 0 0 0.24 509.7646 496.8 cm BT 0.0105 Tc 45 0 0 45 0 0\\nTm /TT2 1 Tf (30) Tj ET Q q 0.24 0 0 0.24 522 496.8 cm BT 45 0 0 45 0 0 Tm\\n/TT2 1 Tf ( ) Tj ET Q q 0.24 0 0 0.24 108 484.08 cm BT 45 0 0 45 0 0 Tm /TT2\\n1 Tf ( ) Tj ET Q q 0.24 0 0 0.24 108 471.6 cm BT 0.0135 Tc 45 0 0 45 0 0 Tm\\n/TT2 1 Tf [ (Ch) 3 (a) 3 (p) 3 (t) 9 (e) 3 (r) 7 ( ) 9 (T) 2 (h) 3 (r) 7 (e)\\n3 (e) 3 (:) 9 ( ) 9 ([) 9 (x) 4 (x) 4 (x) 4 (]) ] TJ ET Q q 0.24 0 0 0.24 207.666 471.6\\ncm BT 45 0 0 45 0 0 Tm /TT2 1 Tf ( ) Tj ET Q q 0.24 0 0 0.24 210.6499 471.6\\ncm BT 0.005 Tc 45 0 0 45 0 0 Tm /TT2 1 Tf (................................)\\nTj ET Q q 0.24 0 0 0.24 308.4468 471.6 cm BT 0.005 Tc 45 0 0 45 0 0 Tm /TT2\\n1 Tf (................................) Tj ET Q q 0.24 0 0 0.24 406.2437 471.6\\ncm BT 0.005 Tc 45 0 0 45 0 0 Tm /TT2 1 Tf (................................)\\nTj ET Q q 0.24 0 0 0.24 504.0405 471.6 cm BT 45 0 0 45 0 0 Tm /TT2 1 Tf (.)\\nTj ET Q q 0.24 0 0 0.24 507.0967 471.6 cm BT 45 0 0 45 0 0 Tm /TT2 1 Tf ( )\\nTj ET Q q 0.24 0 0 0.24 509.7646 471.6 cm BT 0.0105 Tc 45 0 0 45 0 0 Tm /TT2\\n1 Tf (55) Tj ET Q q 0.24 0 0 0.24 522 471.6 cm BT 45 0 0 45 0 0 Tm /TT2 1\\nTf ( ) Tj ET Q q 0.24 0 0 0.24 126 458.88 cm BT 0.005 Tc 45 0 0 45 0 0 Tm\\n/TT2 1 Tf [ ([S) -7 (e) ] TJ ET Q q 0.24 0 0 0.24 142.5107 458.88 cm BT 0.0093\\nTc 45 0 0 45 0 0 Tm /TT2 1 Tf [ (ct) 4 (i) 5 (o) -1 (n) -1 ( ) 4 (A) -3 (])\\n] TJ ET Q q 0.24 0 0 0.24 179.1953 458.88 cm BT 45 0 0 45 0 0 Tm /TT2 1 Tf\\n( ) Tj ET Q q 0.24 0 0 0.24 180.0884 458.88 cm BT 0.005 Tc 45 0 0 45 0 0 Tm\\n/TT2 1 Tf (................................) Tj ET Q q 0.24 0 0 0.24 277.8853 458.88\\ncm BT 0.005 Tc 45 0 0 45 0 0 Tm /TT2 1 Tf (................................)\\nTj ET Q q 0.24 0 0 0.24 375.6821 458.88 cm BT 0.005 Tc 45 0 0 45 0 0 Tm /TT2\\n1 Tf (................................) Tj ET Q q 0.24 0 0 0.24 473.479 458.88\\ncm BT 0.005 Tc 45 0 0 45 0 0 Tm /TT2 1 Tf (...........) Tj ET Q q 0.24 0 0 0.24 507.0967 458.88\\ncm BT 45 0 0 45 0 0 Tm /TT2 1 Tf ( ) Tj ET Q q 0.24 0 0 0.24 509.7646 458.88\\ncm BT 0.0105 Tc 45 0 0 45 0 0 Tm /TT2 1 Tf (55) Tj ET Q q 0.24 0 0 0.24 522 458.88\\ncm BT 45 0 0 45 0 0 Tm /TT2 1 Tf ( ) Tj ET Q q 0.24 0 0 0.24 126 446.16 cm\\nBT 0.005 Tc 45 0 0 45 0 0 Tm /TT2 1 Tf [ ([S) -7 (e) -6 (c) -4 (ti) 1 (o)\\n-6 (n) -6 ( B) -7 (]) ] TJ ET Q q 0.24 0 0 0.24 179.1953 446.16 cm BT 45 0 0 45 0 0\\nTm /TT2 1 Tf ( ) Tj ET Q q 0.24 0 0 0.24 180.0884 446.16 cm BT 0.005 Tc 45 0 0 45 0 0\\nTm /TT2 1 Tf (................................) Tj ET Q q 0.24 0 0 0.24 277.8853 446.16\\ncm BT 0.005 Tc 45 0 0 45 0 0 Tm /TT2 1 Tf (................................)\\nTj ET Q q 0.24 0 0 0.24 375.6821 446.16 cm BT 0.005 Tc 45 0 0 45 0 0 Tm /TT2\\n1 Tf (................................) Tj ET Q q 0.24 0 0 0.24 473.479 446.16\\ncm BT 0.005 Tc 45 0 0 45 0 0 Tm /TT2 1 Tf (...........) Tj ET Q q 0.24 0 0 0.24 507.0967 446.16\\ncm BT 45 0 0 45 0 0 Tm /TT2 1 Tf ( ) Tj ET Q q 0.24 0 0 0.24 509.7646 446.16\\ncm BT 0.0105 Tc 45 0 0 45 0 0 Tm /TT2 1 Tf (65) Tj ET Q q 0.24 0 0 0.24 522 446.16\\ncm BT 45 0 0 45 0 0 Tm /TT2 1 Tf ( ) Tj ET Q q 0.24 0 0 0.24 126 433.68 cm\\nBT 0.005 Tc 45 0 0 45 0 0 Tm /TT2 1 Tf [ ([S) -7 (e) -6 (c) -4 (ti) 1 (o)\\n-6 (n) -6 ( C) -9 (]) ] TJ ET Q q 0.24 0 0 0.24 179.8022 433.68 cm BT 45 0 0 45 0 0\\nTm /TT2 1 Tf ( ) Tj ET Q q 0.24 0 0 0.24 180.0884 433.68 cm BT 0.005 Tc 45 0 0 45 0 0\\nTm /TT2 1 Tf (................................) Tj ET Q q 0.24 0 0 0.24 277.8853 433.68\\ncm BT 0.005 Tc 45 0 0 45 0 0 Tm /TT2 1 Tf (................................)\\nTj ET Q q 0.24 0 0 0.24 375.6821 433.68 cm BT 0.005 Tc 45 0 0 45 0 0 Tm /TT2\\n1 Tf (................................) Tj ET Q q 0.24 0 0 0.24 473.479 433.68\\ncm BT 0.005 Tc 45 0 0 45 0 0 Tm /TT2 1 Tf (...........) Tj ET Q q 0.24 0 0 0.24 507.0967 433.68\\ncm BT 45 0 0 45 0 0 Tm /TT2 1 Tf ( ) Tj ET Q q 0.24 0 0 0.24 509.7646 433.68\\ncm BT 0.0105 Tc 45 0 0 45 0 0 Tm /TT2 1 Tf (75) Tj ET Q q 0.24 0 0 0.24 522 433.68\\ncm BT 45 0 0 45 0 0 Tm /TT2 1 Tf ( ) Tj ET Q q 0.24 0 0 0.24 108 420.96 cm\\nBT 45 0 0 45 0 0 Tm /TT2 1 Tf ( ) Tj ET Q q 0.24 0 0 0.24 108 408.24 cm BT\\n0.0135 Tc 45 0 0 45 0 0 Tm /TT2 1 Tf [ (Ch) 3 (a) 3 (p) 3 (t) 9 (e) 3 (r)\\n7 ( ) 9 (F) 2 (o) 3 (u) 3 (r) 7 (:) 9 ( ) 9 ([) 9 (x) 4 (x) 4 (x) 4 (]) ]\\nTJ ET Q q 0.24 0 0 0.24 201.5483 408.24 cm BT 45 0 0 45 0 0 Tm /TT2 1 Tf ( )\\nTj ET Q q 0.24 0 0 0.24 204.5376 408.24 cm BT 0.005 Tc 45 0 0 45 0 0 Tm /TT2\\n1 Tf (................................) Tj ET Q q 0.24 0 0 0.24 302.3344 408.24\\ncm BT 0.005 Tc 45 0 0 45 0 0 Tm /TT2 1 Tf (................................)\\nTj ET Q q 0.24 0 0 0.24 400.1313 408.24 cm BT 0.005 Tc 45 0 0 45 0 0 Tm /TT2\\n1 Tf (................................) Tj ET Q q 0.24 0 0 0.24 497.9282 408.24\\ncm BT 0.005 Tc 45 0 0 45 0 0 Tm /TT2 1 Tf (...) Tj ET Q q 0.24 0 0 0.24 507.0967 408.24\\ncm BT 45 0 0 45 0 0 Tm /TT2 1 Tf ( ) Tj ET Q q 0.24 0 0 0.24 509.7646 408.24\\ncm BT 0.0105 Tc 45 0 0 45 0 0 Tm /TT2 1 Tf (85) Tj ET Q q 0.24 0 0 0.24 522 408.24\\ncm BT 45 0 0 45 0 0 Tm /TT2 1 Tf ( ) Tj ET Q q 0.24 0 0 0.24 108 395.76 cm\\nBT 45 0 0 45 0 0 Tm /TT2 1 Tf ( ) Tj ET Q q 0.24 0 0 0.24 108 383.04 cm BT\\n0.0123 Tc 45 0 0 45 0 0 Tm /TT2 1 Tf [ (Bi) 8 (b) 2 (l) 8 (i) 8 (o) 2 (g)\\n2 (r) 6 (a) 2 (p) 2 (h) 2 (y) ] TJ ET Q q 0.24 0 0 0.24 168.543 383.04 cm\\nBT 45 0 0 45 0 0 Tm /TT2 1 Tf ( ) Tj ET Q q 0.24 0 0 0.24 170.9199 383.04\\ncm BT 0.005 Tc 45 0 0 45 0 0 Tm /TT2 1 Tf (................................)\\nTj ET Q q 0.24 0 0 0.24 268.7168 383.04 cm BT 0.005 Tc 45 0 0 45 0 0 Tm /TT2\\n1 Tf (................................) Tj ET Q q 0.24 0 0 0.24 366.5136 383.04\\ncm BT 0.005 Tc 45 0 0 45 0 0 Tm /TT2 1 Tf (................................)\\nTj ET Q q 0.24 0 0 0.24 464.3105 383.04 cm BT 0.005 Tc 45 0 0 45 0 0 Tm /TT2\\n1 Tf (............) Tj ET Q q 0.24 0 0 0.24 500.9844 383.04 cm BT 45 0 0 45 0 0\\nTm /TT2 1 Tf ( ) Tj ET Q q 0.24 0 0 0.24 503.647 383.04 cm BT 0.0105 Tc 45 0 0 45 0 0\\nTm /TT2 1 Tf (115) Tj ET Q q 0.24 0 0 0.24 522 383.04 cm BT 45 0 0 45 0 0\\nTm /TT2 1 Tf ( ) Tj ET Q q 0.24 0 0 0.24 108 370.32 cm BT 45 0 0 45 0 0 Tm\\n/TT2 1 Tf ( ) Tj ET Q q 0.24 0 0 0.24 108 357.6 cm BT 0.0123 Tc 45 0 0 45 0 0\\nTm /TT2 1 Tf [ (Ap) 2 (p) 2 (e) 2 (n) 2 (d) 2 (i) 8 (c) 3 (e) 2 (s) ] TJ ET\\nQ q 0.24 0 0 0.24 165.4868 357.6 cm BT 45 0 0 45 0 0 Tm /TT2 1 Tf ( ) Tj ET\\nQ q 0.24 0 0 0.24 167.8638 357.6 cm BT 0.005 Tc 45 0 0 45 0 0 Tm /TT2 1 Tf\\n(................................) Tj ET Q q 0.24 0 0 0.24 265.6606 357.6\\ncm BT 0.005 Tc 45 0 0 45 0 0 Tm /TT2 1 Tf (................................)\\nTj ET Q q 0.24 0 0 0.24 363.4575 357.6 cm BT 0.005 Tc 45 0 0 45 0 0 Tm /TT2\\n1 Tf (................................) Tj ET Q q 0.24 0 0 0.24 461.2544 357.6\\ncm BT 0.005 Tc 45 0 0 45 0 0 Tm /TT2 1 Tf (.............) Tj ET Q q 0.24 0 0 0.24 500.9844 357.6\\ncm BT 45 0 0 45 0 0 Tm /TT2 1 Tf ( ) Tj ET Q q 0.24 0 0 0.24 503.647 357.6\\ncm BT 0.0105 Tc 45 0 0 45 0 0 Tm /TT2 1 Tf (125) Tj ET Q q 0.24 0 0 0.24 522 357.6\\ncm BT 45 0 0 45 0 0 Tm /TT2 1 Tf ( ) Tj ET Q q 0.24 0 0 0.24 126 345.12 cm\\nBT 0.0123 Tc 45 0 0 45 0 0 Tm /TT2 1 Tf [ (Ap) 2 (p) 2 (e) 2 (n) 2 (d) 2 (i)\\n8 (x) 3 ( ) 7 (A:) 7 ( ) 7 ([) 7 (x) 3 (x) 3 (x) 3 (]) ] TJ ET Q q 0.24 0 0 0.24 211.0083 345.12\\ncm BT 45 0 0 45 0 0 Tm /TT2 1 Tf ( ) Tj ET Q q 0.24 0 0 0.24 213.7061 345.12\\ncm BT 0.005 Tc 45 0 0 45 0 0 Tm /TT2 1 Tf (................................)\\nTj ET Q q 0.24 0 0 0.24 311.5029 345.12 cm BT 0.005 Tc 45 0 0 45 0 0 Tm /TT2\\n1 Tf (................................) Tj ET Q q 0.24 0 0 0.24 409.2998 345.12\\ncm BT 0.005 Tc 45 0 0 45 0 0 Tm /TT2 1 Tf (..............................)\\nTj ET Q q 0.24 0 0 0.24 500.9844 345.12 cm BT 45 0 0 45 0 0 Tm /TT2 1 Tf ( )\\nTj ET Q q 0.24 0 0 0.24 503.647 345.12 cm BT 0.0105 Tc 45 0 0 45 0 0 Tm /TT2\\n1 Tf (125) Tj ET Q q 0.24 0 0 0.24 522 345.12 cm BT 45 0 0 45 0 0 Tm /TT2\\n1 Tf ( ) Tj ET Q q 0.24 0 0 0.24 525.0561 345.12 cm BT 45 0 0 45 0 0 Tm /TT2\\n1 Tf ( ) Tj ET Q q 0.24 0 0 0.24 126 332.4 cm BT 0.0123 Tc 45 0 0 45 0 0 Tm\\n/TT2 1 Tf [ (Ap) 2 (p) 2 (e) 2 (n) 2 (d) 2 (i) 8 (x) 3 ( ) 7 (B:) 7 ( ) 7\\n([) 7 (x) 3 (x) 3 (x) 3 (]) ] TJ ET Q q 0.24 0 0 0.24 211.0083 332.4 cm BT\\n45 0 0 45 0 0 Tm /TT2 1 Tf ( ) Tj ET Q q 0.24 0 0 0.24 213.7061 332.4 cm BT\\n0.005 Tc 45 0 0 45 0 0 Tm /TT2 1 Tf (................................) Tj\\nET Q q 0.24 0 0 0.24 311.5029 332.4 cm BT 0.005 Tc 45 0 0 45 0 0 Tm /TT2 1\\nTf (................................) Tj ET Q q 0.24 0 0 0.24 409.2998 332.4\\ncm BT 0.005 Tc 45 0 0 45 0 0 Tm /TT2 1 Tf (..............................)\\nTj ET Q q 0.24 0 0 0.24 500.9844 332.4 cm BT 45 0 0 45 0 0 Tm /TT2 1 Tf ( )\\nTj ET Q q 0.24 0 0 0.24 503.647 332.4 cm BT 0.0105 Tc 45 0 0 45 0 0 Tm /TT2\\n1 Tf (130) Tj ET Q q 0.24 0 0 0.24 522 332.4 cm BT 45 0 0 45 0 0 Tm /TT2 1\\nTf ( ) Tj ET Q Q'"
      ]
     },
     "execution_count": 100,
     "metadata": {},
     "output_type": "execute_result"
    }
   ],
   "source": [
    "\n",
    "doc = fitz.open(os.path.join(pdf_dir,\"sample-table-of-contents.pdf\"))\n",
    "page = doc.load_page(0)\n",
    "page.read_contents()"
   ]
  },
  {
   "cell_type": "markdown",
   "id": "d316e22b",
   "metadata": {},
   "source": [
    "###################"
   ]
  },
  {
   "cell_type": "code",
   "execution_count": 140,
   "id": "f7bb84a4",
   "metadata": {},
   "outputs": [],
   "source": [
    "from pdfminer.high_level import extract_pages\n",
    "from pdfminer.layout import LTTextBoxHorizontal\n",
    "import re"
   ]
  },
  {
   "cell_type": "code",
   "execution_count": 142,
   "id": "d9092bfe",
   "metadata": {},
   "outputs": [],
   "source": [
    "toc_entries = []\n",
    "for page_layout in extract_pages(\"Advances in Financial Machine Learning.pdf\"):\n",
    "    #print(page_layout)\n",
    "    for element in page_layout:\n",
    "        if isinstance(element, LTTextBoxHorizontal):\n",
    "            text = element.get_text().strip()\n",
    "            if \"Contents\" in text or \"Table of Contents\" in text:\n",
    "                for next_element in page_layout:\n",
    "                    if isinstance(next_element, LTTextBoxHorizontal):\n",
    "                        title = next_element.get_text().strip()\n",
    "                        page_number_match = re.search(r\"\\d+\", title)\n",
    "                        if page_number_match:\n",
    "                            page_number = int(page_number_match.group())\n",
    "                            toc_entries.append({\"title\": title,\"page_number\": page_number})"
   ]
  },
  {
   "cell_type": "code",
   "execution_count": 143,
   "id": "0e6d1c12",
   "metadata": {},
   "outputs": [
    {
     "data": {
      "text/plain": [
       "[{'title': '1 Financial Machine Learning as a Distinct Subject',\n",
       "  'page_number': 1},\n",
       " {'title': '1', 'page_number': 1},\n",
       " {'title': '3', 'page_number': 3},\n",
       " {'title': '1.1 Motivation, 3\\n1.2 The Main Reason Financial Machine Learning Projects Usually Fail, 4',\n",
       "  'page_number': 1},\n",
       " {'title': '1.2.1 The Sisyphus Paradigm, 4\\n1.2.2 The Meta-Strategy Paradigm, 5',\n",
       "  'page_number': 1},\n",
       " {'title': '1.3 Book Structure, 6', 'page_number': 1},\n",
       " {'title': '1.3.1 Structure by Production Chain, 6\\n1.3.2 Structure by Strategy Component, 9\\n1.3.3 Structure by Common Pitfall, 12',\n",
       "  'page_number': 1},\n",
       " {'title': '1.4 Target Audience, 12\\n1.5 Requisites, 13\\n1.6 FAQs, 14\\n1.7 Acknowledgments, 18\\nExercises, 19\\nReferences, 20\\nBibliography, 20',\n",
       "  'page_number': 1},\n",
       " {'title': 'PART 1 DATA ANALYSIS', 'page_number': 1},\n",
       " {'title': '2 Financial Data Structures', 'page_number': 2},\n",
       " {'title': '2.1 Motivation, 23', 'page_number': 2},\n",
       " {'title': '21', 'page_number': 21},\n",
       " {'title': '23', 'page_number': 23}]"
      ]
     },
     "execution_count": 143,
     "metadata": {},
     "output_type": "execute_result"
    }
   ],
   "source": [
    "toc_entries"
   ]
  },
  {
   "cell_type": "code",
   "execution_count": 162,
   "id": "2e665f10",
   "metadata": {},
   "outputs": [
    {
     "name": "stdout",
     "output_type": "stream",
     "text": [
      "<PyPDF2._reader.PdfReader object at 0x0000015F127210C0>\n",
      "7\n",
      "0\n",
      "{'/Contents': IndirectObject(8009, 0, 1507842986176), '/CropBox': [0, 0, 432, 648], '/MediaBox': [0, 0, 432, 648], '/Parent': IndirectObject(7914, 0, 1507842986176), '/Resources': {'/ColorSpace': {'/CS0': IndirectObject(8016, 0, 1507842986176)}, '/ProcSet': ['/PDF', '/ImageC'], '/XObject': {'/Im0': IndirectObject(8012, 0, 1507842986176)}}, '/Rotate': 0, '/Type': '/Page'}\n",
      "\n",
      "1\n",
      "{'/Contents': IndirectObject(2, 0, 1507842986176), '/CropBox': [87.264, 72, 519.264, 720], '/MediaBox': [87.264, 72, 519.264, 720], '/Parent': IndirectObject(7914, 0, 1507842986176), '/Resources': {'/ProcSet': ['/PDF', '/Text', '/ImageB', '/ImageC', '/ImageI']}, '/Rotate': 0, '/StructParents': 400, '/Type': '/Page'}\n",
      "\n",
      "2\n",
      "{'/Contents': IndirectObject(4, 0, 1507842986176), '/CropBox': [90, 72, 522, 720], '/MediaBox': [0, 0, 612, 792], '/Parent': IndirectObject(7914, 0, 1507842986176), '/Resources': {'/ColorSpace': {'/CS0': IndirectObject(3016, 0, 1507842986176), '/CS1': IndirectObject(3017, 0, 1507842986176)}, '/ExtGState': {'/GS0': IndirectObject(3019, 0, 1507842986176), '/GS1': IndirectObject(3020, 0, 1507842986176), '/GS2': IndirectObject(3021, 0, 1507842986176)}, '/Font': {'/T1_0': IndirectObject(3025, 0, 1507842986176), '/T1_1': IndirectObject(3029, 0, 1507842986176), '/T1_2': IndirectObject(3033, 0, 1507842986176), '/T1_3': IndirectObject(3035, 0, 1507842986176), '/T1_4': IndirectObject(3039, 0, 1507842986176)}, '/ProcSet': ['/PDF', '/Text']}, '/Rotate': 0, '/Type': '/Page'}\n",
      "JWBT2318-Praise JWBT2318-Marcos February 13, 2018 15:42 Printer Name: Trim: 6in ×9in\n",
      "Praise for Advances in Financial Machine Learning\n",
      "In his new book Advances in Financial Machine Learning , noted financial scholar\n",
      "MarcosL ´opezdePradostrikesawell-aimedkaratechopatthenaiveandoftenstatis-\n",
      "ticallyoverfittechniquesthataresoprevalentinthefinancialworldtoday.Hepoints\n",
      "out that not only are business-as-usual approaches largely impotent in today’s high-\n",
      "tech finance, but in many cases they are actually prone to lose money. But L ´opez de\n",
      "Pradodoesmorethanjustexposethemathematicalandstatisticalsinsofthefinance\n",
      "world.Instead,heoffersatechnicallysoundroadmapforfinanceprofessionalstojoin\n",
      "thewaveofmachinelearning.Whatisparticularlyrefreshingistheauthor’sempirical\n",
      "approach—his focus is on real-world data analysis, not on purely theoretical meth-odsthatmaylookprettyonpaperbutwhich,inmanycases,arelargelyineffectivein\n",
      "practice. The book is geared to finance professionals who are already familiar with\n",
      "statistical data analysis techniques, but it is well worth the effort for those who wantto do real state-of-the-art work inthe field.”\n",
      "Dr. David H. Bailey, former Complex Systems Lead,\n",
      "Lawrence Berkeley National Laboratory. Co-discoverer of the\n",
      "BBP spigot algorithm\n",
      "“Finance has evolved from a compendium of heuristics based on historical financialstatements to a highly sophisticated scientific discipline relying on computer farmsto analyze massive data streams in real time. The recent highly impressive advances\n",
      "in machine learning (ML) are fraught with both promise and peril when applied to\n",
      "modern finance. While finance offers up the nonlinearities and large data sets upon\n",
      "whichMLthrives,italsooffersupnoisydataandthehumanelementwhichpresently\n",
      "lie beyond the scope of standard ML techniques. To err is human, but if you reallywanttof**kthingsup,useacomputer.Againstthisbackground,Dr.L ´opezdePrado\n",
      "has written the first comprehensive book describing the application of modern MLtofinancialmodeling.ThebookblendsthelatesttechnologicaldevelopmentsinMLwithcriticallifelessonslearnedfromtheauthor’sdecadesoffinancialexperiencein\n",
      "leading academic and industrial institutions. I highly recommend this exciting book\n",
      "tobothprospectivestudentsoffinancialMLandtheprofessorsandsupervisorswhoteach and guide them.”\n",
      "Prof. Peter Carr, Chair of the Finance and Risk Engineering\n",
      "Department, NYU Tandon School of Engineering\n",
      "“Marcosisavisionarywhoworkstirelesslytoadvancethefinancefield.Hiswritingis\n",
      "comprehensive and masterfully connects the theory to the application. It is not often\n",
      "you find a book that can cross that divide. This book is an essential read for bothpractitionersandtechnologistsworkingonsolutionsfortheinvestmentcommunity.”\n",
      "Landon Downs, President and Cofounder, 1QBit\n",
      "“Academics who want to understand modern investment management need to readthisbook.Init,MarcosL ´opezdePradoexplainshowportfoliomanagersusemachine\n",
      "learning to derive, test, and employ trading strategies. He does this from a veryunusual combination of an academic perspective and extensive experience in indus-try, allowing him to both explain in detail what happens in industry and to explain\n",
      "3\n",
      "{'/Contents': IndirectObject(8, 0, 1507842986176), '/CropBox': [90, 72, 522, 720], '/MediaBox': [0, 0, 612, 792], '/Parent': IndirectObject(7914, 0, 1507842986176), '/Resources': {'/ColorSpace': {'/CS0': IndirectObject(3016, 0, 1507842986176), '/CS1': IndirectObject(3017, 0, 1507842986176)}, '/ExtGState': {'/GS0': IndirectObject(3019, 0, 1507842986176), '/GS1': IndirectObject(3020, 0, 1507842986176), '/GS2': IndirectObject(3021, 0, 1507842986176), '/GS3': IndirectObject(3040, 0, 1507842986176)}, '/Font': {'/T1_0': IndirectObject(3025, 0, 1507842986176), '/T1_1': IndirectObject(3029, 0, 1507842986176), '/T1_2': IndirectObject(3033, 0, 1507842986176), '/T1_3': IndirectObject(3039, 0, 1507842986176), '/T1_4': IndirectObject(3043, 0, 1507842986176), '/T1_5': IndirectObject(3045, 0, 1507842986176), '/T1_6': IndirectObject(3048, 0, 1507842986176)}, '/ProcSet': ['/PDF', '/Text']}, '/Rotate': 0, '/Type': '/Page'}\n",
      "JWBT2318-Praise JWBT2318-Marcos February 13, 2018 15:42 Printer Name: Trim: 6in ×9in\n",
      "how it works. I suspect that some readers will find parts of the book that they do not\n",
      "understand or that they disagree with, but everyone interested in understanding the\n",
      "application of machine learning to finance will benefit from reading this book.”\n",
      "Prof. David Easley, Cornell University. Chair of the\n",
      "NASDAQ-OMX Economic Advisory Board\n",
      "“For many decades, finance has relied on overly simplistic statistical techniquesto identify patterns in data. Machine learning promises to change that by allowing\n",
      "researchers to use modern nonlinear and highly dimensional techniques, similar to\n",
      "those used in scientific fields like DNA analysis and astrophysics. At the same time,applying those machine learning algorithms to model financial problems would be\n",
      "dangerous. Financial problems require very distinct machine learning solutions.\n",
      "Dr. L´opez de Prado’s book is the first one to characterize what makes standard\n",
      "machine learning tools fail when applied to the field of finance, and the first one to\n",
      "provide practical solutions to unique challenges faced by asset managers. Everyone\n",
      "who wants to understand the future of finance should read this book.”\n",
      "Prof. Frank Fabozzi, EDHEC Business School. Editor of\n",
      "The Journal of Portfolio Management\n",
      "“Thisisawelcomedeparturefromtheknowledgehoardingthatplaguesquantitativefinance.L ´opezdePradodefinesforallreadersthenexteraoffinance:industrialscale\n",
      "scientific research powered by machines.”\n",
      "John Fawcett , Founder and CEO, Quantopian\n",
      "“Marcos has assembled in one place an invaluable set of lessons and techniques forpractitioners seeking to deploy machine learning techniques in finance. If machine\n",
      "learning is a new and potentially powerful weapon in the arsenal of quantitative\n",
      "finance, Marcos’s insightful book is laden with useful advice to help keep a curi-\n",
      "ous practitioner from going down any number of blind alleys, or shooting oneself in\n",
      "the foot.”\n",
      "Ross Garon , Head of Cubist Systematic Strategies. Managing\n",
      "Director, Point72 Asset Management\n",
      "“ThefirstwaveofquantitativeinnovationinfinancewasledbyMarkowitzoptimiza-tion.MachineLearningisthesecondwave,anditwilltoucheveryaspectoffinance.L´opez de Prado’s Advances in Financial Machine Learning is essential for readers\n",
      "who want tobe ahead of the technology rather than being replaced by it.”\n",
      "Prof. Campbell Harvey, Duke University. Former President of\n",
      "the American Finance Association\n",
      "“The complexity inherent to financial systems justifies the application of \n",
      "sophisticated mathematical techniques. Advances in Financial Machine Learning\n",
      "is an exciting book that unravels a complex subject in clear terms. I wholeheartedly recommend this book to anyone interested in the future of quantitative investments.”  \n",
      "Prof. John C. Hull , University of Toronto. Author of \n",
      "rivatives  Options, Futures, and other De\n",
      "4\n",
      "{'/Contents': IndirectObject(12, 0, 1507842986176), '/CropBox': [90, 72, 522, 720], '/MediaBox': [0, 0, 612, 792], '/Parent': IndirectObject(7914, 0, 1507842986176), '/Resources': {'/ColorSpace': {'/CS0': IndirectObject(3016, 0, 1507842986176), '/CS1': IndirectObject(3017, 0, 1507842986176)}, '/ExtGState': {'/GS0': IndirectObject(3019, 0, 1507842986176), '/GS1': IndirectObject(3020, 0, 1507842986176), '/GS2': IndirectObject(3021, 0, 1507842986176), '/GS3': IndirectObject(3040, 0, 1507842986176), '/GS4': IndirectObject(1588, 0, 1507842986176), '/GS5': IndirectObject(1589, 0, 1507842986176)}, '/Font': {'/T1_0': IndirectObject(3049, 0, 1507842986176), '/T1_1': IndirectObject(3050, 0, 1507842986176), '/T1_10': IndirectObject(3051, 0, 1507842986176), '/T1_11': IndirectObject(3052, 0, 1507842986176), '/T1_2': IndirectObject(3053, 0, 1507842986176), '/T1_3': IndirectObject(3054, 0, 1507842986176), '/T1_4': IndirectObject(3055, 0, 1507842986176), '/T1_5': IndirectObject(3056, 0, 1507842986176), '/T1_6': IndirectObject(3057, 0, 1507842986176), '/T1_7': IndirectObject(3058, 0, 1507842986176), '/T1_8': IndirectObject(3059, 0, 1507842986176), '/T1_9': IndirectObject(3060, 0, 1507842986176)}, '/ProcSet': ['/PDF', '/Text']}, '/Rotate': 0, '/Type': '/Page'}\n",
      "JWBT2318-Praise JWBT2318-Marcos February 13, 2018 15:42 Printer Name: Trim: 6in ×9in\n",
      "machine learning. For academics and practitioners alike, thisbook fillsan important\n",
      "gap in our understanding of investment management in the machine age.”\n",
      "Prof. Maureen O’Hara, Cornell University. Former President of\n",
      "the American Finance Association“How does one make sense of todays’ financial markets in which complex algo-\n",
      "rithms route orders, financial data is voluminous, and trading speeds are measuredin nanoseconds? In this important book, Marcos L ´opez de Prado sets out a new\n",
      "paradigm for investment management built on machine learning. Far from being a“black box” technique, this book clearly explains the tools and process of financial“Financial data is special for a key reason: The markets have only one past. There \n",
      "is no ‘control group’, and you have to wait for true out -of-sample data. \n",
      "avoid falling for these common mistakes. This is an excellent book for anyone working, or hoping to work, in computerized investment and trading.”  \n",
      "Dr. David J. Leinweber , Former Managing Director, First Quadrant.\n",
      "“In his new book, Dr. López de Prado demonstrates that financial machine learning is more than standard machine learning applied to financial datasets. It is a n \n",
      "important field of research in its own right. It requires the development of new mathematical tools and approaches, needed to address the nuances of financial datasets. I strongly recommend this book to anyone who wishes to move beyond the standard Econometric toolkit.”  \n",
      "Dr. Richard R. Lindsey , Managing Partner, Windham Capital Management. \n",
      "Former Chief Economist, U.S. Securities and Exchange Commission Author of  Nerds on Wall Street: Math, Machines and Wired MarketsConsequently, it is easy to fool yourself, and with the march of Moore’s Law and \n",
      "the new machine learning, it’s easier than ever. López de Prado explains how to“Prado’s book clearly illustrates how fast this world is moving, and how deep you \n",
      "need to dive if you are to excel and deliver top of the range solutions and above the curve performing algorithms... Prado’s book is clearly at the bleeding edge of the machine learning world.”  \n",
      "Irish Tech News\n",
      "“Dr. Lopez de Prado, a well -known scholar and an accomplished portfolio \n",
      "manager who has made several important contributions to the literature on machine learning (ML) in finance, has produced a comprehensive and innovative book on \n",
      "the subject. He has illuminated numerous pitfalls awaiting anyone who wishes to use ML in earnest, and he has provided much needed blueprints for doing it successfully. This timely book, offering a good balance of theoretical and applie d \n",
      "findings, is a must for academics and practitioners alike.”  \n",
      "Prof. Alexander Lipton , Connection Science Fellow, Massachusetts\n",
      "Risk’s Quant of the Year (2000) Institute of Technology. \n",
      "5\n",
      "{'/Contents': IndirectObject(29, 0, 1507842986176), '/CropBox': [90, 72, 522, 720], '/MediaBox': [0, 0, 612, 792], '/Parent': IndirectObject(7914, 0, 1507842986176), '/Resources': {'/ColorSpace': {'/CS0': IndirectObject(3016, 0, 1507842986176), '/CS1': IndirectObject(3017, 0, 1507842986176)}, '/ExtGState': {'/GS0': IndirectObject(3019, 0, 1507842986176), '/GS1': IndirectObject(3020, 0, 1507842986176), '/GS2': IndirectObject(3021, 0, 1507842986176)}, '/Font': {'/T1_0': IndirectObject(3025, 0, 1507842986176), '/T1_1': IndirectObject(3029, 0, 1507842986176), '/T1_2': IndirectObject(3033, 0, 1507842986176)}, '/ProcSet': ['/PDF', '/Text']}, '/Rotate': 0, '/Type': '/Page'}\n",
      "JWBT2318-Praise JWBT2318-Marcos February 13, 2018 15:42 Printer Name: Trim: 6in ×9in\n",
      "“Marcos L ´opez de Prado has produced an extremely timely and important book on\n",
      "machinelearning.Theauthor’sacademicandprofessionalfirst-ratecredentialsshine\n",
      "through the pages of this book—indeed, I could think of few, if any, authors better\n",
      "suited to explaining both the theoretical and the practical aspects of this new and(for most) unfamiliar subject. Both novices and experienced professionals will find\n",
      "insightfulideas,andwillunderstandhowthesubjectcanbeappliedinnovelanduse-\n",
      "fulways.ThePythoncodewillgivethenovicereadersarunningstartandwillallowthem to gain quickly a hands-on appreciation of the subject. Destined to become a\n",
      "classic in this rapidly burgeoning field.”\n",
      "Prof. Riccardo Rebonato, EDHEC Business School. Former\n",
      "Global Head of Rates and FX Analytics at PIMCO\n",
      "“A tour de force on practical aspects of machine learning in finance, brimming with\n",
      "ideas on how to employ cutting-edge techniques, such as fractional differentiation\n",
      "andquantumcomputers,togaininsightandcompetitiveadvantage.Ausefulvolume\n",
      "for finance and machine learning practitioners alike.”\n",
      "Dr. Collin P. Williams , Head of Research, D-Wave Systems\n",
      "6\n",
      "{'/Contents': IndirectObject(31, 0, 1507842986176), '/CropBox': [90, 72, 522, 720], '/MediaBox': [0, 0, 612, 792], '/Parent': IndirectObject(7914, 0, 1507842986176), '/Resources': {'/ColorSpace': {'/CS0': IndirectObject(3016, 0, 1507842986176), '/CS1': IndirectObject(3017, 0, 1507842986176)}, '/ExtGState': {'/GS0': IndirectObject(3019, 0, 1507842986176), '/GS1': IndirectObject(3020, 0, 1507842986176), '/GS2': IndirectObject(3021, 0, 1507842986176)}, '/Font': {'/T1_0': IndirectObject(3064, 0, 1507842986176), '/T1_1': IndirectObject(3029, 0, 1507842986176)}, '/ProcSet': ['/PDF', '/Text']}, '/Rotate': 0, '/Type': '/Page'}\n",
      "JWBT2318-halftitle JWBT2318-Marcos February 13, 2018 15:23 Printer Name: Trim: 6in ×9in\n",
      "Advances in Financial Machine Learning\n"
     ]
    }
   ],
   "source": [
    "import PyPDF2\n",
    "\n",
    "def extract_table_of_contents(pdf_path):\n",
    "    table_of_contents = []\n",
    "    \n",
    "    with open(pdf_path, 'rb') as file:\n",
    "        pdf_reader = PyPDF2.PdfReader(file)\n",
    "        print(pdf_reader)\n",
    "        print(len(pdf_reader.pages[0]))\n",
    "        \n",
    "        for page_num in range(len(pdf_reader.pages[0])):\n",
    "            print(page_num)\n",
    "            page = pdf_reader.pages[page_num]\n",
    "            print(page)\n",
    "            text = page.extract_text()\n",
    "            print(text)\n",
    "            \n",
    "            # Check if the page contains a table of contents\n",
    "            if \"Table of Contents\" in text:\n",
    "                # Extract the table of contents from the page\n",
    "                lines = text.split(\"\\n\")\n",
    "                toc = [line.strip() for line in lines if line.strip()]\n",
    "                table_of_contents.extend(toc)\n",
    "    \n",
    "    return table_of_contents\n",
    "\n",
    "# Path to the PDF file\n",
    "pdf_path = \"Advances in Financial Machine Learning.pdf\"\n",
    "\n",
    "# Extract the table of contents\n",
    "table_of_contents = extract_table_of_contents(pdf_path)\n",
    "\n",
    "# Print the extracted table of contents\n",
    "for item in table_of_contents:\n",
    "    print(item)"
   ]
  },
  {
   "cell_type": "code",
   "execution_count": 164,
   "id": "60d89395",
   "metadata": {},
   "outputs": [],
   "source": [
    "#!pip install tabula-py"
   ]
  },
  {
   "cell_type": "code",
   "execution_count": 165,
   "id": "5244514d",
   "metadata": {},
   "outputs": [],
   "source": [
    "import tabula"
   ]
  },
  {
   "cell_type": "code",
   "execution_count": 169,
   "id": "53e70b72",
   "metadata": {},
   "outputs": [
    {
     "data": {
      "text/html": [
       "<div>\n",
       "<style scoped>\n",
       "    .dataframe tbody tr th:only-of-type {\n",
       "        vertical-align: middle;\n",
       "    }\n",
       "\n",
       "    .dataframe tbody tr th {\n",
       "        vertical-align: top;\n",
       "    }\n",
       "\n",
       "    .dataframe thead th {\n",
       "        text-align: right;\n",
       "    }\n",
       "</style>\n",
       "<table border=\"1\" class=\"dataframe\">\n",
       "  <thead>\n",
       "    <tr style=\"text-align: right;\">\n",
       "      <th></th>\n",
       "      <th>First Name</th>\n",
       "      <th>Last Name</th>\n",
       "      <th>Age</th>\n",
       "    </tr>\n",
       "  </thead>\n",
       "  <tbody>\n",
       "    <tr>\n",
       "      <th>0</th>\n",
       "      <td>John</td>\n",
       "      <td>Doe</td>\n",
       "      <td>99</td>\n",
       "    </tr>\n",
       "    <tr>\n",
       "      <th>1</th>\n",
       "      <td>Jane</td>\n",
       "      <td>Doo</td>\n",
       "      <td>29</td>\n",
       "    </tr>\n",
       "    <tr>\n",
       "      <th>2</th>\n",
       "      <td>Black</td>\n",
       "      <td>Smith</td>\n",
       "      <td>49</td>\n",
       "    </tr>\n",
       "    <tr>\n",
       "      <th>3</th>\n",
       "      <td>Lone</td>\n",
       "      <td>Wolf</td>\n",
       "      <td>35</td>\n",
       "    </tr>\n",
       "    <tr>\n",
       "      <th>4</th>\n",
       "      <td>Foo</td>\n",
       "      <td>Bar</td>\n",
       "      <td>5</td>\n",
       "    </tr>\n",
       "    <tr>\n",
       "      <th>5</th>\n",
       "      <td>Sekiro</td>\n",
       "      <td>Honda</td>\n",
       "      <td>45</td>\n",
       "    </tr>\n",
       "    <tr>\n",
       "      <th>6</th>\n",
       "      <td>Elon</td>\n",
       "      <td>Musk</td>\n",
       "      <td>54</td>\n",
       "    </tr>\n",
       "    <tr>\n",
       "      <th>7</th>\n",
       "      <td>Catherine</td>\n",
       "      <td>Roth</td>\n",
       "      <td>55</td>\n",
       "    </tr>\n",
       "    <tr>\n",
       "      <th>8</th>\n",
       "      <td>Julio</td>\n",
       "      <td>Caesar</td>\n",
       "      <td>58</td>\n",
       "    </tr>\n",
       "    <tr>\n",
       "      <th>9</th>\n",
       "      <td>Candy</td>\n",
       "      <td>Sweet</td>\n",
       "      <td>6</td>\n",
       "    </tr>\n",
       "    <tr>\n",
       "      <th>10</th>\n",
       "      <td>Bo</td>\n",
       "      <td>Kim</td>\n",
       "      <td>32</td>\n",
       "    </tr>\n",
       "    <tr>\n",
       "      <th>11</th>\n",
       "      <td>Sling</td>\n",
       "      <td>Academy</td>\n",
       "      <td>44</td>\n",
       "    </tr>\n",
       "    <tr>\n",
       "      <th>12</th>\n",
       "      <td>Rantaro</td>\n",
       "      <td>Shinsuke</td>\n",
       "      <td>9</td>\n",
       "    </tr>\n",
       "    <tr>\n",
       "      <th>13</th>\n",
       "      <td>Cold</td>\n",
       "      <td>Water</td>\n",
       "      <td>15</td>\n",
       "    </tr>\n",
       "    <tr>\n",
       "      <th>14</th>\n",
       "      <td>Fried</td>\n",
       "      <td>Chicken</td>\n",
       "      <td>3</td>\n",
       "    </tr>\n",
       "    <tr>\n",
       "      <th>15</th>\n",
       "      <td>Blonde</td>\n",
       "      <td>Pink</td>\n",
       "      <td>23</td>\n",
       "    </tr>\n",
       "  </tbody>\n",
       "</table>\n",
       "</div>"
      ],
      "text/plain": [
       "   First Name Last Name  Age\n",
       "0        John       Doe   99\n",
       "1        Jane       Doo   29\n",
       "2       Black     Smith   49\n",
       "3        Lone      Wolf   35\n",
       "4         Foo       Bar    5\n",
       "5      Sekiro     Honda   45\n",
       "6        Elon      Musk   54\n",
       "7   Catherine      Roth   55\n",
       "8       Julio    Caesar   58\n",
       "9       Candy     Sweet    6\n",
       "10         Bo       Kim   32\n",
       "11      Sling   Academy   44\n",
       "12    Rantaro  Shinsuke    9\n",
       "13       Cold     Water   15\n",
       "14      Fried   Chicken    3\n",
       "15     Blonde      Pink   23"
      ]
     },
     "execution_count": 169,
     "metadata": {},
     "output_type": "execute_result"
    }
   ],
   "source": [
    "file1 = os.path.join(pdf_dir, \"text-and-table.pdf\")\n",
    "table = tabula.read_pdf(file1,pages=1)\n",
    "table[0]"
   ]
  },
  {
   "cell_type": "code",
   "execution_count": 170,
   "id": "d5799a04",
   "metadata": {},
   "outputs": [],
   "source": [
    "# Creating the JAVE_HOME\n",
    "# import os\n",
    "# os.environ[\"JAVA_HOME\"]= \"C:\\Program Files\\Java\\jdk-21\""
   ]
  },
  {
   "cell_type": "code",
   "execution_count": null,
   "id": "9ff350ad",
   "metadata": {},
   "outputs": [],
   "source": [
    "\n"
   ]
  },
  {
   "cell_type": "code",
   "execution_count": null,
   "id": "3da9e910",
   "metadata": {},
   "outputs": [],
   "source": []
  },
  {
   "cell_type": "code",
   "execution_count": null,
   "id": "b1756365",
   "metadata": {},
   "outputs": [],
   "source": []
  }
 ],
 "metadata": {
  "kernelspec": {
   "display_name": "Python 3 (ipykernel)",
   "language": "python",
   "name": "python3"
  },
  "language_info": {
   "codemirror_mode": {
    "name": "ipython",
    "version": 3
   },
   "file_extension": ".py",
   "mimetype": "text/x-python",
   "name": "python",
   "nbconvert_exporter": "python",
   "pygments_lexer": "ipython3",
   "version": "3.10.9"
  }
 },
 "nbformat": 4,
 "nbformat_minor": 5
}
